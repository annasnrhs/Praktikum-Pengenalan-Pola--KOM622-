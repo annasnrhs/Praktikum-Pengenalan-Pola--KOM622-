{
 "cells": [
  {
   "cell_type": "markdown",
   "metadata": {},
   "source": [
    "# PERTEMUAN 3\n",
    "REPRESENTASI DATA DALAM PYTHON SEBAGAI PENDAHULUAN PADA PENGENALAN POLA"
   ]
  },
  {
   "cell_type": "markdown",
   "metadata": {},
   "source": [
    "## VEKTOR"
   ]
  },
  {
   "cell_type": "code",
   "execution_count": 2,
   "metadata": {},
   "outputs": [],
   "source": [
    "import numpy as np"
   ]
  },
  {
   "cell_type": "code",
   "execution_count": 3,
   "metadata": {},
   "outputs": [
    {
     "name": "stdout",
     "output_type": "stream",
     "text": [
      "Vektor default python\n",
      "\n",
      "[ 1  2  3  4  5  6  7  8  9 10 11 12 13 14 15 16 17 18 19]\n",
      "[ 1  3  5  7  9 11 13 15 17 19]\n",
      "1\n",
      "(19,)\n"
     ]
    }
   ],
   "source": [
    "# vektor python numpy with range value\n",
    "print('Vektor default python\\n')\n",
    "a = np.arange(1,20,1)\n",
    "b = np.arange(1,20,2)\n",
    "print(a)\n",
    "print(b)\n",
    "print(a.ndim)\n",
    "print(a.shape)"
   ]
  },
  {
   "cell_type": "code",
   "execution_count": 4,
   "metadata": {},
   "outputs": [
    {
     "name": "stdout",
     "output_type": "stream",
     "text": [
      "\n",
      " vektor via numpy\n",
      "\n",
      "[1 2 3 4 5]\n",
      "[1.5 2.5 5.  6.  7. ]\n"
     ]
    }
   ],
   "source": [
    "# vektor via numpy\n",
    "print(\"\\n vektor via numpy\\n\")\n",
    "c = np.array([1,2,3,4,5])\n",
    "d = np.array([1.5, 2.5, 5, 6, 7])\n",
    "print(c)\n",
    "print(d)"
   ]
  },
  {
   "cell_type": "markdown",
   "metadata": {},
   "source": [
    "## MATRIX\n",
    "Matriks adalah basic 2D table dari data dan dapat berisi nilai numerik dan/atau karakter."
   ]
  },
  {
   "cell_type": "code",
   "execution_count": 5,
   "metadata": {},
   "outputs": [
    {
     "name": "stdout",
     "output_type": "stream",
     "text": [
      "1D\n",
      " [ 1  2  3  4  5  6  7  8  9 10 11 12 13 14 15 16 17 18 19 20]\n",
      "2D\n",
      " [[ 1  2  3  4  5]\n",
      " [ 6  7  8  9 10]\n",
      " [11 12 13 14 15]\n",
      " [16 17 18 19 20]]\n"
     ]
    }
   ],
   "source": [
    "# mengubah dari 1D menjadi 2D\n",
    "a = np.arange(1,21,1)\n",
    "c = a.reshape((4,5))\n",
    "print(\"1D\\n\", a)\n",
    "print(\"2D\\n\", c)"
   ]
  },
  {
   "cell_type": "markdown",
   "metadata": {},
   "source": [
    "## LIST\n",
    "Merupakan representasi struktur data yang dapat menyimpan data dengan nilai numerik, karakter, dll secara bersamaan."
   ]
  },
  {
   "cell_type": "code",
   "execution_count": 6,
   "metadata": {},
   "outputs": [
    {
     "name": "stdout",
     "output_type": "stream",
     "text": [
      "['apple', 'banana', 'cherry']\n",
      "[1, 5, 7, 9, 3]\n",
      "[True, False, False]\n",
      "['abc', 34, True, 40, 'male']\n"
     ]
    }
   ],
   "source": [
    "list1 = [\"apple\", \"banana\", \"cherry\"]\n",
    "list2 = [1, 5, 7, 9, 3]\n",
    "list3 = [True, False, False]\n",
    "list4 = [\"abc\", 34, True, 40, \"male\"]\n",
    "print(list1)\n",
    "print(list2)\n",
    "print(list3)\n",
    "print(list4)"
   ]
  },
  {
   "cell_type": "markdown",
   "metadata": {},
   "source": [
    "## DATA FRAME\n",
    "Adalah spesialisasi dari tipe list untuk menyimpan vektor ke dalam bentuk frame (menyerupai basis data). Kelebihan dibandingkan matriks adalah dapat dimanipulasi dalam berbagai bentuk dan cara."
   ]
  },
  {
   "cell_type": "code",
   "execution_count": 7,
   "metadata": {},
   "outputs": [],
   "source": [
    "import pandas as pd"
   ]
  },
  {
   "cell_type": "code",
   "execution_count": 8,
   "metadata": {},
   "outputs": [
    {
     "name": "stdout",
     "output_type": "stream",
     "text": [
      "   a  b  c\n",
      "0  1  2  3\n",
      "1  4  5  6\n",
      "2  7  8  9\n"
     ]
    }
   ],
   "source": [
    "# data frame\n",
    "df = pd.DataFrame(np.array([[1,2,3], [4,5,6], [7,8,9]]),\n",
    "                 columns=['a', 'b', 'c'])\n",
    "print(df)"
   ]
  },
  {
   "cell_type": "markdown",
   "metadata": {},
   "source": [
    "## IMPORT DATA"
   ]
  },
  {
   "cell_type": "code",
   "execution_count": 12,
   "metadata": {},
   "outputs": [
    {
     "name": "stdout",
     "output_type": "stream",
     "text": [
      "   Nama Pasien  umur gender diagnosa sakit\n",
      "0         anna    23      P          tidak\n",
      "1         aldo    23      L             ya\n",
      "2         anto    24      L             ya\n",
      "3         budi    35      L             ya\n",
      "4          adi    35      L          tidak\n",
      "5       delima    55      P          tidak\n",
      "6         dodi    32      L          tidak\n",
      "7         rama    21      P          tidak\n",
      "8        santi    19      P             ya\n",
      "9         mery    23      P          tidak\n",
      "10       yanti    35      P             ya\n",
      "11       parto    44      L          tidak\n",
      "12         dea    27      P          tidak\n"
     ]
    }
   ],
   "source": [
    "# membaca data dari file dengan format CSV\n",
    "data = pd.read_csv(\"C:/Users/Siti Nur Hasanah/Kuliah/K3/data.csv\", sep=\",\")\n",
    "print(data)"
   ]
  },
  {
   "cell_type": "code",
   "execution_count": 19,
   "metadata": {},
   "outputs": [
    {
     "name": "stdout",
     "output_type": "stream",
     "text": [
      "\n",
      " read text data with tab delimiter\n",
      "\n",
      "Nama Pasien\tumur\tgender\tdiagnosa sakit\n",
      "anna\t23\tP\ttidak\n",
      "aldo\t23\tL\tya\n",
      "anto\t24\tL\tya\n",
      "budi\t35\tL\tya\n",
      "adi\t35\tL\ttidak\n",
      "delima\t55\tP\ttidak\n",
      "dodi\t32\tL\ttidak\n",
      "rama\t21\tP\ttidak\n",
      "santi\t19\tP\tya\n",
      "mery\t23\tP\ttidak\n",
      "yanti\t35\tP\tya\n",
      "parto\t44\tL\ttidak\n",
      "dea\t27\tP\ttidak\n",
      "\n"
     ]
    }
   ],
   "source": [
    "# membaca data dari file dengan format text (tab delimiter)\n",
    "print(\"\\n read text data with tab delimiter\\n\")\n",
    "with open ('Data.txt') as data:\n",
    "    print(data.read())"
   ]
  },
  {
   "cell_type": "code",
   "execution_count": 21,
   "metadata": {},
   "outputs": [
    {
     "data": {
      "text/html": [
       "<div>\n",
       "<style scoped>\n",
       "    .dataframe tbody tr th:only-of-type {\n",
       "        vertical-align: middle;\n",
       "    }\n",
       "\n",
       "    .dataframe tbody tr th {\n",
       "        vertical-align: top;\n",
       "    }\n",
       "\n",
       "    .dataframe thead th {\n",
       "        text-align: right;\n",
       "    }\n",
       "</style>\n",
       "<table border=\"1\" class=\"dataframe\">\n",
       "  <thead>\n",
       "    <tr style=\"text-align: right;\">\n",
       "      <th></th>\n",
       "      <th>time</th>\n",
       "      <th>40</th>\n",
       "      <th>50</th>\n",
       "      <th>60</th>\n",
       "      <th>70</th>\n",
       "      <th>80</th>\n",
       "      <th>90</th>\n",
       "      <th>100</th>\n",
       "      <th>110</th>\n",
       "      <th>120</th>\n",
       "      <th>...</th>\n",
       "      <th>170</th>\n",
       "      <th>180</th>\n",
       "      <th>190</th>\n",
       "      <th>200</th>\n",
       "      <th>210</th>\n",
       "      <th>220</th>\n",
       "      <th>230</th>\n",
       "      <th>240</th>\n",
       "      <th>250</th>\n",
       "      <th>260</th>\n",
       "    </tr>\n",
       "  </thead>\n",
       "  <tbody>\n",
       "    <tr>\n",
       "      <th>0</th>\n",
       "      <td>YAL001C</td>\n",
       "      <td>-0.070</td>\n",
       "      <td>-0.23</td>\n",
       "      <td>-0.100</td>\n",
       "      <td>0.03</td>\n",
       "      <td>-0.04</td>\n",
       "      <td>-0.12</td>\n",
       "      <td>-0.28</td>\n",
       "      <td>-0.44</td>\n",
       "      <td>-0.09</td>\n",
       "      <td>...</td>\n",
       "      <td>0.59</td>\n",
       "      <td>0.34</td>\n",
       "      <td>-0.28</td>\n",
       "      <td>-0.09</td>\n",
       "      <td>-0.44</td>\n",
       "      <td>0.31</td>\n",
       "      <td>0.03</td>\n",
       "      <td>0.57</td>\n",
       "      <td>0.00</td>\n",
       "      <td>0.010</td>\n",
       "    </tr>\n",
       "    <tr>\n",
       "      <th>1</th>\n",
       "      <td>YAL014C</td>\n",
       "      <td>0.215</td>\n",
       "      <td>0.09</td>\n",
       "      <td>0.025</td>\n",
       "      <td>-0.04</td>\n",
       "      <td>-0.04</td>\n",
       "      <td>-0.02</td>\n",
       "      <td>-0.51</td>\n",
       "      <td>-0.08</td>\n",
       "      <td>0.00</td>\n",
       "      <td>...</td>\n",
       "      <td>-0.30</td>\n",
       "      <td>-0.38</td>\n",
       "      <td>0.07</td>\n",
       "      <td>-0.04</td>\n",
       "      <td>0.13</td>\n",
       "      <td>-0.06</td>\n",
       "      <td>-0.26</td>\n",
       "      <td>-0.10</td>\n",
       "      <td>0.27</td>\n",
       "      <td>0.235</td>\n",
       "    </tr>\n",
       "    <tr>\n",
       "      <th>2</th>\n",
       "      <td>YAL016W</td>\n",
       "      <td>0.150</td>\n",
       "      <td>0.15</td>\n",
       "      <td>0.220</td>\n",
       "      <td>0.29</td>\n",
       "      <td>-0.10</td>\n",
       "      <td>0.15</td>\n",
       "      <td>-0.73</td>\n",
       "      <td>0.19</td>\n",
       "      <td>-0.15</td>\n",
       "      <td>...</td>\n",
       "      <td>0.12</td>\n",
       "      <td>-0.17</td>\n",
       "      <td>0.11</td>\n",
       "      <td>-0.15</td>\n",
       "      <td>0.03</td>\n",
       "      <td>-0.26</td>\n",
       "      <td>-0.34</td>\n",
       "      <td>-0.34</td>\n",
       "      <td>0.25</td>\n",
       "      <td>0.190</td>\n",
       "    </tr>\n",
       "    <tr>\n",
       "      <th>3</th>\n",
       "      <td>YAL020C</td>\n",
       "      <td>-0.350</td>\n",
       "      <td>-0.28</td>\n",
       "      <td>-0.215</td>\n",
       "      <td>-0.15</td>\n",
       "      <td>0.16</td>\n",
       "      <td>-0.12</td>\n",
       "      <td>0.26</td>\n",
       "      <td>0.00</td>\n",
       "      <td>0.13</td>\n",
       "      <td>...</td>\n",
       "      <td>0.07</td>\n",
       "      <td>0.61</td>\n",
       "      <td>-0.20</td>\n",
       "      <td>0.49</td>\n",
       "      <td>-0.43</td>\n",
       "      <td>0.80</td>\n",
       "      <td>-0.47</td>\n",
       "      <td>1.01</td>\n",
       "      <td>-0.36</td>\n",
       "      <td>-0.405</td>\n",
       "    </tr>\n",
       "    <tr>\n",
       "      <th>4</th>\n",
       "      <td>YAL022C</td>\n",
       "      <td>-0.415</td>\n",
       "      <td>-0.59</td>\n",
       "      <td>-0.580</td>\n",
       "      <td>-0.57</td>\n",
       "      <td>-0.09</td>\n",
       "      <td>-0.34</td>\n",
       "      <td>0.49</td>\n",
       "      <td>0.32</td>\n",
       "      <td>1.15</td>\n",
       "      <td>...</td>\n",
       "      <td>-0.48</td>\n",
       "      <td>-0.40</td>\n",
       "      <td>-0.59</td>\n",
       "      <td>0.54</td>\n",
       "      <td>-0.09</td>\n",
       "      <td>1.03</td>\n",
       "      <td>0.08</td>\n",
       "      <td>0.57</td>\n",
       "      <td>-0.26</td>\n",
       "      <td>-0.310</td>\n",
       "    </tr>\n",
       "  </tbody>\n",
       "</table>\n",
       "<p>5 rows × 24 columns</p>\n",
       "</div>"
      ],
      "text/plain": [
       "      time     40    50     60    70    80    90   100   110   120  ...   170  \\\n",
       "0  YAL001C -0.070 -0.23 -0.100  0.03 -0.04 -0.12 -0.28 -0.44 -0.09  ...  0.59   \n",
       "1  YAL014C  0.215  0.09  0.025 -0.04 -0.04 -0.02 -0.51 -0.08  0.00  ... -0.30   \n",
       "2  YAL016W  0.150  0.15  0.220  0.29 -0.10  0.15 -0.73  0.19 -0.15  ...  0.12   \n",
       "3  YAL020C -0.350 -0.28 -0.215 -0.15  0.16 -0.12  0.26  0.00  0.13  ...  0.07   \n",
       "4  YAL022C -0.415 -0.59 -0.580 -0.57 -0.09 -0.34  0.49  0.32  1.15  ... -0.48   \n",
       "\n",
       "    180   190   200   210   220   230   240   250    260  \n",
       "0  0.34 -0.28 -0.09 -0.44  0.31  0.03  0.57  0.00  0.010  \n",
       "1 -0.38  0.07 -0.04  0.13 -0.06 -0.26 -0.10  0.27  0.235  \n",
       "2 -0.17  0.11 -0.15  0.03 -0.26 -0.34 -0.34  0.25  0.190  \n",
       "3  0.61 -0.20  0.49 -0.43  0.80 -0.47  1.01 -0.36 -0.405  \n",
       "4 -0.40 -0.59  0.54 -0.09  1.03  0.08  0.57 -0.26 -0.310  \n",
       "\n",
       "[5 rows x 24 columns]"
      ]
     },
     "execution_count": 21,
     "metadata": {},
     "output_type": "execute_result"
    }
   ],
   "source": [
    "# membaca data dari URL\n",
    "f = pd.read_csv('http://www.exploredata.net/ftp/Spellman.csv')\n",
    "f.head(5)"
   ]
  },
  {
   "cell_type": "markdown",
   "metadata": {},
   "source": [
    "## Membaca File dan Menyajikan Dalam Bentuk Grafik"
   ]
  },
  {
   "cell_type": "code",
   "execution_count": 22,
   "metadata": {},
   "outputs": [],
   "source": [
    "import matplotlib.pyplot as plt"
   ]
  },
  {
   "cell_type": "code",
   "execution_count": 24,
   "metadata": {},
   "outputs": [
    {
     "name": "stdout",
     "output_type": "stream",
     "text": [
      "[[1.000e+00 2.272e+03]\n",
      " [2.000e+00       nan]\n",
      " [3.000e+00 1.386e+03]\n",
      " [4.000e+00 1.365e+03]\n",
      " [5.000e+00 1.488e+03]\n",
      " [6.000e+00 1.337e+03]\n",
      " [7.000e+00 1.883e+03]\n",
      " [8.000e+00 2.283e+03]\n",
      " [9.000e+00 1.335e+03]\n",
      " [1.000e+01 1.025e+03]]\n",
      "(743, 2)\n"
     ]
    }
   ],
   "source": [
    "traffic = np.genfromtxt(\"web_traffic.tsv\", delimiter='\\t')\n",
    "'''\n",
    "genfromtxt() used to load data from a text file,\n",
    "with missing values handled as specified\n",
    "'''\n",
    "print(traffic[:10])\n",
    "print(traffic.shape)"
   ]
  },
  {
   "cell_type": "code",
   "execution_count": 25,
   "metadata": {},
   "outputs": [],
   "source": [
    "x = traffic[:, 0]\n",
    "y = traffic[:, 1]"
   ]
  },
  {
   "cell_type": "code",
   "execution_count": 26,
   "metadata": {},
   "outputs": [],
   "source": [
    "x = x[~np.isnan(y)]\n",
    "y = y[~np.isnan(y)]"
   ]
  },
  {
   "cell_type": "code",
   "execution_count": 29,
   "metadata": {},
   "outputs": [
    {
     "data": {
      "image/png": "[encoded data removed]",
      "text/plain": [
       "<Figure size 432x288 with 1 Axes>"
      ]
     },
     "metadata": {
      "needs_background": "light"
     },
     "output_type": "display_data"
    }
   ],
   "source": [
    "plt.scatter(x,y)\n",
    "plt.title(\"Web Traffic Last Month\")\n",
    "plt.xlabel(\"Time\")\n",
    "plt.ylabel(\"Hits/Hour\")\n",
    "\n",
    "plt.xticks([w*7*24 for w in range(10)],\n",
    "          ['week %i' %w for w in range(10)])\n",
    "plt.autoscale(tight=True)\n",
    "plt.grid()"
   ]
  },
  {
   "cell_type": "markdown",
   "metadata": {},
   "source": [
    "## Operasi Image pada Python"
   ]
  },
  {
   "cell_type": "code",
   "execution_count": 31,
   "metadata": {},
   "outputs": [
    {
     "name": "stdout",
     "output_type": "stream",
     "text": [
      "Collecting opencv-contrib-python\n",
      "  Downloading opencv_contrib_python-4.5.1.48-cp38-cp38-win_amd64.whl (41.2 MB)\n",
      "Requirement already satisfied: numpy>=1.17.3 in c:\\users\\siti nur hasanah\\anaconda3\\lib\\site-packages (from opencv-contrib-python) (1.19.2)\n",
      "Installing collected packages: opencv-contrib-python\n",
      "Successfully installed opencv-contrib-python-4.5.1.48\n"
     ]
    }
   ],
   "source": [
    "# instalasi paket open cv\n",
    "!pip install opencv-contrib-python"
   ]
  },
  {
   "cell_type": "code",
   "execution_count": 32,
   "metadata": {},
   "outputs": [],
   "source": [
    "import cv2"
   ]
  },
  {
   "cell_type": "code",
   "execution_count": 34,
   "metadata": {},
   "outputs": [
    {
     "name": "stdout",
     "output_type": "stream",
     "text": [
      "read images using opencv\n",
      "(402, 410, 3)\n",
      "494460\n"
     ]
    },
    {
     "data": {
      "text/plain": [
       "-1"
      ]
     },
     "execution_count": 34,
     "metadata": {},
     "output_type": "execute_result"
    },
    {
     "data": {
      "image/png": "[encoded data removed]",
      "text/plain": [
       "<Figure size 432x288 with 1 Axes>"
      ]
     },
     "metadata": {
      "needs_background": "light"
     },
     "output_type": "display_data"
    }
   ],
   "source": [
    "# load image\n",
    "print(\"read images using opencv\")\n",
    "five = cv2.imread('5.png')\n",
    "print(five.shape)\n",
    "print(five.size)\n",
    "plt.imshow(five)\n",
    "cv2.waitKey(0)"
   ]
  },
  {
   "cell_type": "code",
   "execution_count": null,
   "metadata": {},
   "outputs": [],
   "source": [
    "# konversi image\n",
    "babon = cv2.imread('babon.jpg')\n",
    "babon_gray = cv2.cvtColor(babon, cv2.COLOR_BGR2GRAY)\n",
    "plt.imshow(babon)\n",
    "plt.imshow(babon_gray)"
   ]
  },
  {
   "cell_type": "code",
   "execution_count": 35,
   "metadata": {},
   "outputs": [
    {
     "name": "stdout",
     "output_type": "stream",
     "text": [
      "[255 255 255]\n"
     ]
    }
   ],
   "source": [
    "# mengambil nilai matrixnya\n",
    "# access pixel of images per position\n",
    "pixels = five[100, 100]\n",
    "print(pixels)"
   ]
  },
  {
   "cell_type": "code",
   "execution_count": null,
   "metadata": {},
   "outputs": [],
   "source": []
  }
 ],
 "metadata": {
  "kernelspec": {
   "display_name": "Python 3",
   "language": "python",
   "name": "python3"
  },
  "language_info": {
   "codemirror_mode": {
    "name": "ipython",
    "version": 3
   },
   "file_extension": ".py",
   "mimetype": "text/x-python",
   "name": "python",
   "nbconvert_exporter": "python",
   "pygments_lexer": "ipython3",
   "version": "3.8.5"
  }
 },
 "nbformat": 4,
 "nbformat_minor": 4
}
